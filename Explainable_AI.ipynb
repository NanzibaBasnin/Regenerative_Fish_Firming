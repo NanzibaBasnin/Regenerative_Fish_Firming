{
  "cells": [
    {
      "cell_type": "markdown",
      "metadata": {
        "id": "view-in-github",
        "colab_type": "text"
      },
      "source": [
        "<a href=\"https://colab.research.google.com/github/NanzibaBasnin/Regenerative_Fish_Firming/blob/main/Explainable_AI.ipynb\" target=\"_parent\"><img src=\"https://colab.research.google.com/assets/colab-badge.svg\" alt=\"Open In Colab\"/></a>"
      ]
    },
    {
      "cell_type": "code",
      "source": [
        "from google.colab import files\n",
        "uploaded = files.upload()"
      ],
      "metadata": {
        "colab": {
          "base_uri": "https://localhost:8080/",
          "height": 72
        },
        "id": "TPng9A3D9uq-",
        "outputId": "666be47b-ea54-4f4e-b4e0-cbb045af6892"
      },
      "id": "TPng9A3D9uq-",
      "execution_count": null,
      "outputs": [
        {
          "output_type": "display_data",
          "data": {
            "text/plain": [
              "<IPython.core.display.HTML object>"
            ],
            "text/html": [
              "\n",
              "     <input type=\"file\" id=\"files-447458f4-8db3-4b56-ba90-8dd471399951\" name=\"files[]\" multiple disabled\n",
              "        style=\"border:none\" />\n",
              "     <output id=\"result-447458f4-8db3-4b56-ba90-8dd471399951\">\n",
              "      Upload widget is only available when the cell has been executed in the\n",
              "      current browser session. Please rerun this cell to enable.\n",
              "      </output>\n",
              "      <script>// Copyright 2017 Google LLC\n",
              "//\n",
              "// Licensed under the Apache License, Version 2.0 (the \"License\");\n",
              "// you may not use this file except in compliance with the License.\n",
              "// You may obtain a copy of the License at\n",
              "//\n",
              "//      http://www.apache.org/licenses/LICENSE-2.0\n",
              "//\n",
              "// Unless required by applicable law or agreed to in writing, software\n",
              "// distributed under the License is distributed on an \"AS IS\" BASIS,\n",
              "// WITHOUT WARRANTIES OR CONDITIONS OF ANY KIND, either express or implied.\n",
              "// See the License for the specific language governing permissions and\n",
              "// limitations under the License.\n",
              "\n",
              "/**\n",
              " * @fileoverview Helpers for google.colab Python module.\n",
              " */\n",
              "(function(scope) {\n",
              "function span(text, styleAttributes = {}) {\n",
              "  const element = document.createElement('span');\n",
              "  element.textContent = text;\n",
              "  for (const key of Object.keys(styleAttributes)) {\n",
              "    element.style[key] = styleAttributes[key];\n",
              "  }\n",
              "  return element;\n",
              "}\n",
              "\n",
              "// Max number of bytes which will be uploaded at a time.\n",
              "const MAX_PAYLOAD_SIZE = 100 * 1024;\n",
              "\n",
              "function _uploadFiles(inputId, outputId) {\n",
              "  const steps = uploadFilesStep(inputId, outputId);\n",
              "  const outputElement = document.getElementById(outputId);\n",
              "  // Cache steps on the outputElement to make it available for the next call\n",
              "  // to uploadFilesContinue from Python.\n",
              "  outputElement.steps = steps;\n",
              "\n",
              "  return _uploadFilesContinue(outputId);\n",
              "}\n",
              "\n",
              "// This is roughly an async generator (not supported in the browser yet),\n",
              "// where there are multiple asynchronous steps and the Python side is going\n",
              "// to poll for completion of each step.\n",
              "// This uses a Promise to block the python side on completion of each step,\n",
              "// then passes the result of the previous step as the input to the next step.\n",
              "function _uploadFilesContinue(outputId) {\n",
              "  const outputElement = document.getElementById(outputId);\n",
              "  const steps = outputElement.steps;\n",
              "\n",
              "  const next = steps.next(outputElement.lastPromiseValue);\n",
              "  return Promise.resolve(next.value.promise).then((value) => {\n",
              "    // Cache the last promise value to make it available to the next\n",
              "    // step of the generator.\n",
              "    outputElement.lastPromiseValue = value;\n",
              "    return next.value.response;\n",
              "  });\n",
              "}\n",
              "\n",
              "/**\n",
              " * Generator function which is called between each async step of the upload\n",
              " * process.\n",
              " * @param {string} inputId Element ID of the input file picker element.\n",
              " * @param {string} outputId Element ID of the output display.\n",
              " * @return {!Iterable<!Object>} Iterable of next steps.\n",
              " */\n",
              "function* uploadFilesStep(inputId, outputId) {\n",
              "  const inputElement = document.getElementById(inputId);\n",
              "  inputElement.disabled = false;\n",
              "\n",
              "  const outputElement = document.getElementById(outputId);\n",
              "  outputElement.innerHTML = '';\n",
              "\n",
              "  const pickedPromise = new Promise((resolve) => {\n",
              "    inputElement.addEventListener('change', (e) => {\n",
              "      resolve(e.target.files);\n",
              "    });\n",
              "  });\n",
              "\n",
              "  const cancel = document.createElement('button');\n",
              "  inputElement.parentElement.appendChild(cancel);\n",
              "  cancel.textContent = 'Cancel upload';\n",
              "  const cancelPromise = new Promise((resolve) => {\n",
              "    cancel.onclick = () => {\n",
              "      resolve(null);\n",
              "    };\n",
              "  });\n",
              "\n",
              "  // Wait for the user to pick the files.\n",
              "  const files = yield {\n",
              "    promise: Promise.race([pickedPromise, cancelPromise]),\n",
              "    response: {\n",
              "      action: 'starting',\n",
              "    }\n",
              "  };\n",
              "\n",
              "  cancel.remove();\n",
              "\n",
              "  // Disable the input element since further picks are not allowed.\n",
              "  inputElement.disabled = true;\n",
              "\n",
              "  if (!files) {\n",
              "    return {\n",
              "      response: {\n",
              "        action: 'complete',\n",
              "      }\n",
              "    };\n",
              "  }\n",
              "\n",
              "  for (const file of files) {\n",
              "    const li = document.createElement('li');\n",
              "    li.append(span(file.name, {fontWeight: 'bold'}));\n",
              "    li.append(span(\n",
              "        `(${file.type || 'n/a'}) - ${file.size} bytes, ` +\n",
              "        `last modified: ${\n",
              "            file.lastModifiedDate ? file.lastModifiedDate.toLocaleDateString() :\n",
              "                                    'n/a'} - `));\n",
              "    const percent = span('0% done');\n",
              "    li.appendChild(percent);\n",
              "\n",
              "    outputElement.appendChild(li);\n",
              "\n",
              "    const fileDataPromise = new Promise((resolve) => {\n",
              "      const reader = new FileReader();\n",
              "      reader.onload = (e) => {\n",
              "        resolve(e.target.result);\n",
              "      };\n",
              "      reader.readAsArrayBuffer(file);\n",
              "    });\n",
              "    // Wait for the data to be ready.\n",
              "    let fileData = yield {\n",
              "      promise: fileDataPromise,\n",
              "      response: {\n",
              "        action: 'continue',\n",
              "      }\n",
              "    };\n",
              "\n",
              "    // Use a chunked sending to avoid message size limits. See b/62115660.\n",
              "    let position = 0;\n",
              "    do {\n",
              "      const length = Math.min(fileData.byteLength - position, MAX_PAYLOAD_SIZE);\n",
              "      const chunk = new Uint8Array(fileData, position, length);\n",
              "      position += length;\n",
              "\n",
              "      const base64 = btoa(String.fromCharCode.apply(null, chunk));\n",
              "      yield {\n",
              "        response: {\n",
              "          action: 'append',\n",
              "          file: file.name,\n",
              "          data: base64,\n",
              "        },\n",
              "      };\n",
              "\n",
              "      let percentDone = fileData.byteLength === 0 ?\n",
              "          100 :\n",
              "          Math.round((position / fileData.byteLength) * 100);\n",
              "      percent.textContent = `${percentDone}% done`;\n",
              "\n",
              "    } while (position < fileData.byteLength);\n",
              "  }\n",
              "\n",
              "  // All done.\n",
              "  yield {\n",
              "    response: {\n",
              "      action: 'complete',\n",
              "    }\n",
              "  };\n",
              "}\n",
              "\n",
              "scope.google = scope.google || {};\n",
              "scope.google.colab = scope.google.colab || {};\n",
              "scope.google.colab._files = {\n",
              "  _uploadFiles,\n",
              "  _uploadFilesContinue,\n",
              "};\n",
              "})(self);\n",
              "</script> "
            ]
          },
          "metadata": {}
        },
        {
          "output_type": "stream",
          "name": "stdout",
          "text": [
            "Saving flux_data_07_21_22_metadata.xlsx to flux_data_07_21_22_metadata.xlsx\n"
          ]
        }
      ]
    },
    {
      "cell_type": "code",
      "source": [
        "import pandas as pd\n",
        "\n",
        "# Read the Excel file\n",
        "excel_file = 'flux_data_07_21_22_metadata.xlsx'\n",
        "df = pd.read_excel(excel_file)\n",
        "\n",
        "# Save the DataFrame as a CSV file\n",
        "csv_file = 'flux_data_07_21_22_params.csv'\n",
        "df.to_csv(csv_file, index=False)\n"
      ],
      "metadata": {
        "id": "Ov3PuNoc-JJg"
      },
      "id": "Ov3PuNoc-JJg",
      "execution_count": null,
      "outputs": []
    },
    {
      "cell_type": "code",
      "source": [
        "import pandas as pd\n",
        "\n",
        "# Replace this with your dataset's file path\n",
        "file_path = 'flux_data_07_21_22_params.csv'\n",
        "\n",
        "# Read the CSV file into a Pandas DataFrame\n",
        "dataset = pd.read_csv(file_path)\n",
        "\n",
        "# Print the column names\n",
        "for column in dataset.columns:\n",
        "    print(column)\n"
      ],
      "metadata": {
        "colab": {
          "base_uri": "https://localhost:8080/"
        },
        "id": "uC3DRsi4_j1q",
        "outputId": "81e837fc-ab75-4546-9712-a1286afd3cc2"
      },
      "id": "uC3DRsi4_j1q",
      "execution_count": null,
      "outputs": [
        {
          "output_type": "stream",
          "name": "stdout",
          "text": [
            "Run #\n",
            "capex\n",
            "linecost\n",
            "labor\n",
            "harvcost\n",
            "transportcost\n",
            "transportems\n",
            "maintenanceboatems\n",
            "insur\n",
            "license\n",
            "opex\n",
            "sinkval\n",
            "sequestration_rate\n",
            "removal_rate\n",
            "productval\n",
            "avoidedems_product\n",
            "convertcost\n",
            "convertems\n",
            "depth_mult\n",
            "wave_mult\n",
            "seaweed_map\n",
            "prod_cost_low1p_avg\n",
            "percentile_0.2_prodcost_avg\n",
            "percentile_0.4_prodcost_avg\n",
            "percentile_0.6_prodcost_avg\n",
            "percentile_0.8_prodcost_avg\n",
            "percentile_1_prodcost_avg\n",
            "prod_cost_avg_northatlantic\n",
            "prod_cost_avg_southatlantic\n",
            "prod_cost_avg_northpacific\n",
            "prod_cost_avg_centralpacific\n",
            "prod_cost_avg_southpacific\n",
            "prod_cost_avg_indian\n",
            "net_costperton_sink_low1p_avg\n",
            "percentile_0.2_sinkcost_avg\n",
            "percentile_0.4_sinkcost_avg\n",
            "percentile_0.6_sinkcost_avg\n",
            "percentile_0.8_sinkcost_avg\n",
            "percentile_1_sinkcost_avg\n",
            "net_costperton_sink_avg_northatlantic\n",
            "net_costperton_sink_avg_southatlantic\n",
            "net_costperton_sink_avg_northpacific\n",
            "net_costperton_sink_avg_centralpacific\n",
            "net_costperton_sink_avg_southpacific\n",
            "net_costperton_sink_avg_indian\n",
            "net_costperton_product_low1p_avg\n",
            "percentile_0.2_productcost_avg\n",
            "percentile_0.4_productcost_avg\n",
            "percentile_0.6_productcost_avg\n",
            "percentile_0.8_productcost_avg\n",
            "percentile_1_productcost_avg\n",
            "net_costperton_product_avg_northatlantic\n",
            "net_costperton_product_avg_southatlantic\n",
            "net_costperton_product_avg_northpacific\n",
            "net_costperton_product_avg_centralpacific\n",
            "net_costperton_product_avg_southpacific\n",
            "net_costperton_product_avg_indian\n"
          ]
        }
      ]
    },
    {
      "cell_type": "code",
      "execution_count": null,
      "id": "9ec7f5c9-b350-484e-8989-bc39ac44466c",
      "metadata": {
        "id": "9ec7f5c9-b350-484e-8989-bc39ac44466c"
      },
      "outputs": [],
      "source": [
        "# Pandas is used for data manipulation\n",
        "import pandas as pd\n",
        "\n",
        "# Use numpy to convert to arrays\n",
        "import numpy as np\n",
        "import os\n",
        "import lightgbm as lgbm\n",
        "import matplotlib.pyplot as plt\n",
        "\n",
        "from mlxtend.plotting import plot_learning_curves\n",
        "\n",
        "# Read in data and display first 5 rows\n",
        "meta_file = os.path.expanduser('flux_data_07_21_22_params.csv')\n",
        "features = pd.read_csv(meta_file)\n"
      ]
    },
    {
      "cell_type": "code",
      "source": [
        "print(features.columns)\n"
      ],
      "metadata": {
        "colab": {
          "base_uri": "https://localhost:8080/"
        },
        "id": "RW19lrOxBfFp",
        "outputId": "e809b3e3-f051-46d1-9fad-05b51906e9e4"
      },
      "id": "RW19lrOxBfFp",
      "execution_count": null,
      "outputs": [
        {
          "output_type": "stream",
          "name": "stdout",
          "text": [
            "Index(['Run #', 'capex', 'linecost', 'labor', 'harvcost', 'transportcost',\n",
            "       'transportems', 'maintenanceboatems', 'insur', 'license', 'opex',\n",
            "       'sinkval', 'sequestration_rate', 'removal_rate', 'productval',\n",
            "       'avoidedems_product', 'convertcost', 'convertems', 'depth_mult',\n",
            "       'wave_mult', 'seaweed_map', 'prod_cost_low1p_avg',\n",
            "       'percentile_0.2_prodcost_avg', 'percentile_0.4_prodcost_avg',\n",
            "       'percentile_0.6_prodcost_avg', 'percentile_0.8_prodcost_avg',\n",
            "       'percentile_1_prodcost_avg', 'prod_cost_avg_northatlantic',\n",
            "       'prod_cost_avg_southatlantic', 'prod_cost_avg_northpacific',\n",
            "       'prod_cost_avg_centralpacific', 'prod_cost_avg_southpacific',\n",
            "       'prod_cost_avg_indian', 'net_costperton_sink_low1p_avg',\n",
            "       'percentile_0.2_sinkcost_avg', 'percentile_0.4_sinkcost_avg',\n",
            "       'percentile_0.6_sinkcost_avg', 'percentile_0.8_sinkcost_avg',\n",
            "       'percentile_1_sinkcost_avg', 'net_costperton_sink_avg_northatlantic',\n",
            "       'net_costperton_sink_avg_southatlantic',\n",
            "       'net_costperton_sink_avg_northpacific',\n",
            "       'net_costperton_sink_avg_centralpacific',\n",
            "       'net_costperton_sink_avg_southpacific',\n",
            "       'net_costperton_sink_avg_indian', 'net_costperton_product_low1p_avg',\n",
            "       'percentile_0.2_productcost_avg', 'percentile_0.4_productcost_avg',\n",
            "       'percentile_0.6_productcost_avg', 'percentile_0.8_productcost_avg',\n",
            "       'percentile_1_productcost_avg',\n",
            "       'net_costperton_product_avg_northatlantic',\n",
            "       'net_costperton_product_avg_southatlantic',\n",
            "       'net_costperton_product_avg_northpacific',\n",
            "       'net_costperton_product_avg_centralpacific',\n",
            "       'net_costperton_product_avg_southpacific',\n",
            "       'net_costperton_product_avg_indian'],\n",
            "      dtype='object')\n"
          ]
        }
      ]
    },
    {
      "cell_type": "code",
      "execution_count": null,
      "id": "82590fca-3887-4e39-b7d8-c5b54edae6b3",
      "metadata": {
        "id": "82590fca-3887-4e39-b7d8-c5b54edae6b3",
        "colab": {
          "base_uri": "https://localhost:8080/"
        },
        "outputId": "30eecc29-9a90-4b23-dcbb-791f93e04e92"
      },
      "outputs": [
        {
          "output_type": "stream",
          "name": "stdout",
          "text": [
            "Index(['Run #', 'capex', 'linecost', 'labor', 'harvcost', 'transportcost',\n",
            "       'transportems', 'maintenanceboatems', 'insur', 'license', 'opex',\n",
            "       'sinkval', 'sequestration_rate', 'removal_rate', 'productval',\n",
            "       'avoidedems_product', 'convertcost', 'convertems', 'depth_mult',\n",
            "       'wave_mult', 'seaweed_map', 'prod_cost_low1p_avg',\n",
            "       'percentile_0.2_prodcost_avg', 'percentile_0.4_prodcost_avg',\n",
            "       'percentile_0.6_prodcost_avg', 'percentile_0.8_prodcost_avg',\n",
            "       'percentile_1_prodcost_avg', 'prod_cost_avg_northatlantic',\n",
            "       'prod_cost_avg_southatlantic', 'prod_cost_avg_northpacific',\n",
            "       'prod_cost_avg_centralpacific', 'prod_cost_avg_southpacific',\n",
            "       'prod_cost_avg_indian', 'net_costperton_sink_low1p_avg',\n",
            "       'percentile_0.2_sinkcost_avg', 'percentile_0.4_sinkcost_avg',\n",
            "       'percentile_0.6_sinkcost_avg', 'percentile_0.8_sinkcost_avg',\n",
            "       'percentile_1_sinkcost_avg', 'net_costperton_sink_avg_northatlantic',\n",
            "       'net_costperton_sink_avg_southatlantic',\n",
            "       'net_costperton_sink_avg_northpacific',\n",
            "       'net_costperton_sink_avg_centralpacific',\n",
            "       'net_costperton_sink_avg_southpacific',\n",
            "       'net_costperton_sink_avg_indian', 'net_costperton_product_low1p_avg',\n",
            "       'percentile_0.2_productcost_avg', 'percentile_0.4_productcost_avg',\n",
            "       'percentile_0.6_productcost_avg', 'percentile_0.8_productcost_avg',\n",
            "       'percentile_1_productcost_avg',\n",
            "       'net_costperton_product_avg_northatlantic',\n",
            "       'net_costperton_product_avg_southatlantic',\n",
            "       'net_costperton_product_avg_northpacific',\n",
            "       'net_costperton_product_avg_centralpacific',\n",
            "       'net_costperton_product_avg_southpacific',\n",
            "       'net_costperton_product_avg_indian'],\n",
            "      dtype='object')\n"
          ]
        }
      ],
      "source": [
        "# Labels are the values we want to predict\n",
        "print(features.columns)\n",
        "labels = np.array(features['percentile_0.2_prodcost_avg'])\n",
        "\n",
        "growth = 0\n",
        "sinking = 1\n",
        "products = 0\n",
        "\n",
        "features = features.drop('column_name', axis=1, errors='ignore')\n",
        "\n",
        "# Remove the labels from the features\n",
        "# axis 1 refers to the columns\n",
        "if growth==1:\n",
        "    features= features.drop('removal_rate', axis = 1)\n",
        "    features= features.drop('avoidedems_product', axis = 1)\n",
        "    features= features.drop('productval', axis = 1)\n",
        "    features= features.drop('convertcost', axis = 1)\n",
        "    features= features.drop('convertems', axis = 1)\n",
        "    features= features.drop('sinkval', axis = 1)\n",
        "    features= features.drop('sequestration_rate', axis = 1)\n",
        "\n",
        "if sinking==1:\n",
        "    features= features.drop('avoidedems_product', axis = 1)\n",
        "    features= features.drop('productval', axis = 1)\n",
        "    features= features.drop('convertcost', axis = 1)\n",
        "    features= features.drop('convertems', axis = 1)\n",
        "\n",
        "if products==1:\n",
        "    features= features.drop('removal_rate', axis = 1)\n",
        "    features= features.drop('sinkval', axis = 1)\n",
        "    features= features.drop('sequestration_rate', axis = 1)\n",
        "\n",
        "#features= features.drop('Unnamed: 0', axis = 1)\n",
        "features= features.drop('net_costperton_product_low1p_avg', axis = 1)\n",
        "features= features.drop('net_costperton_sink_low1p_avg', axis = 1)\n",
        "features= features.drop('prod_cost_low1p_avg', axis = 1)\n",
        "features= features.drop('percentile_0.2_prodcost_avg', axis = 1)\n",
        "features= features.drop('percentile_0.4_prodcost_avg', axis = 1)\n",
        "features= features.drop('percentile_0.6_prodcost_avg', axis = 1)\n",
        "features= features.drop('percentile_0.8_prodcost_avg', axis = 1)\n",
        "features= features.drop('percentile_1_prodcost_avg', axis = 1)\n",
        "features= features.drop('prod_cost_avg_northatlantic', axis = 1)\n",
        "features= features.drop('prod_cost_avg_southatlantic', axis = 1)\n",
        "features= features.drop('prod_cost_avg_northpacific', axis = 1)\n",
        "features= features.drop('prod_cost_avg_centralpacific', axis = 1)\n",
        "features= features.drop('prod_cost_avg_southpacific', axis = 1)\n",
        "features= features.drop('prod_cost_avg_indian', axis = 1)\n",
        "features= features.drop('percentile_0.2_sinkcost_avg', axis = 1)\n",
        "features= features.drop('percentile_0.4_sinkcost_avg', axis = 1)\n",
        "features= features.drop('percentile_0.6_sinkcost_avg', axis = 1)\n",
        "features= features.drop('percentile_0.8_sinkcost_avg', axis = 1)\n",
        "features= features.drop('percentile_1_sinkcost_avg', axis = 1)\n",
        "features= features.drop('net_costperton_sink_avg_northatlantic', axis = 1)\n",
        "features= features.drop('net_costperton_sink_avg_southatlantic', axis = 1)\n",
        "features= features.drop('net_costperton_sink_avg_northpacific', axis = 1)\n",
        "features= features.drop('net_costperton_sink_avg_centralpacific', axis = 1)\n",
        "features= features.drop('net_costperton_sink_avg_southpacific', axis = 1)\n",
        "features= features.drop('net_costperton_sink_avg_indian', axis = 1)\n",
        "features= features.drop('percentile_0.2_productcost_avg', axis = 1)\n",
        "features= features.drop('percentile_0.4_productcost_avg', axis = 1)\n",
        "features= features.drop('percentile_0.6_productcost_avg', axis = 1)\n",
        "features= features.drop('percentile_0.8_productcost_avg', axis = 1)\n",
        "features= features.drop('percentile_1_productcost_avg', axis = 1)\n",
        "features= features.drop('net_costperton_product_avg_northatlantic', axis = 1)\n",
        "features= features.drop('net_costperton_product_avg_southatlantic', axis = 1)\n",
        "features= features.drop('net_costperton_product_avg_northpacific', axis = 1)\n",
        "features= features.drop('net_costperton_product_avg_centralpacific', axis = 1)\n",
        "features= features.drop('net_costperton_product_avg_southpacific', axis = 1)\n",
        "features= features.drop('net_costperton_product_avg_indian', axis = 1)\n",
        "\n",
        "# Saving feature names for later use\n",
        "feature_list = list(features.columns)\n",
        "# Convert to numpy array\n",
        "features = np.array(features)"
      ]
    },
    {
      "cell_type": "code",
      "source": [
        "print(\"Feature list:\", feature_list)\n",
        "#print(\"Features as numpy array:\", features)\n"
      ],
      "metadata": {
        "colab": {
          "base_uri": "https://localhost:8080/"
        },
        "id": "ZCVqAFpUJLSv",
        "outputId": "4445ac0b-6a3e-4373-ca10-f20fcba04103"
      },
      "id": "ZCVqAFpUJLSv",
      "execution_count": null,
      "outputs": [
        {
          "output_type": "stream",
          "name": "stdout",
          "text": [
            "Feature list: ['Run #', 'capex', 'linecost', 'labor', 'harvcost', 'transportcost', 'transportems', 'maintenanceboatems', 'insur', 'license', 'opex', 'sinkval', 'sequestration_rate', 'removal_rate', 'depth_mult', 'wave_mult', 'seaweed_map']\n"
          ]
        }
      ]
    },
    {
      "cell_type": "code",
      "source": [
        "print(\"Feature list:\")\n",
        "for feature in feature_list:\n",
        "    print(feature)\n"
      ],
      "metadata": {
        "id": "5cxfm5EUJr5l",
        "outputId": "696b3739-aeb3-4df6-838f-2f140308dc54",
        "colab": {
          "base_uri": "https://localhost:8080/"
        }
      },
      "id": "5cxfm5EUJr5l",
      "execution_count": null,
      "outputs": [
        {
          "output_type": "stream",
          "name": "stdout",
          "text": [
            "Feature list:\n",
            "Run #\n",
            "capex\n",
            "linecost\n",
            "labor\n",
            "harvcost\n",
            "transportcost\n",
            "transportems\n",
            "maintenanceboatems\n",
            "insur\n",
            "license\n",
            "opex\n",
            "sinkval\n",
            "sequestration_rate\n",
            "removal_rate\n",
            "depth_mult\n",
            "wave_mult\n",
            "seaweed_map\n"
          ]
        }
      ]
    },
    {
      "cell_type": "code",
      "source": [
        "!pip install shap"
      ],
      "metadata": {
        "colab": {
          "base_uri": "https://localhost:8080/"
        },
        "id": "CE50wQoAhMn5",
        "outputId": "00f5a65a-c0a5-41f3-f4d0-ef653de8d1d4"
      },
      "id": "CE50wQoAhMn5",
      "execution_count": null,
      "outputs": [
        {
          "output_type": "stream",
          "name": "stdout",
          "text": [
            "Looking in indexes: https://pypi.org/simple, https://us-python.pkg.dev/colab-wheels/public/simple/\n",
            "Collecting shap\n",
            "  Downloading shap-0.41.0-cp310-cp310-manylinux_2_12_x86_64.manylinux2010_x86_64.whl (572 kB)\n",
            "\u001b[2K     \u001b[90m━━━━━━━━━━━━━━━━━━━━━━━━━━━━━━━━━━━━━━━\u001b[0m \u001b[32m572.6/572.6 kB\u001b[0m \u001b[31m8.4 MB/s\u001b[0m eta \u001b[36m0:00:00\u001b[0m\n",
            "\u001b[?25hRequirement already satisfied: scikit-learn in /usr/local/lib/python3.10/dist-packages (from shap) (1.2.2)\n",
            "Requirement already satisfied: packaging>20.9 in /usr/local/lib/python3.10/dist-packages (from shap) (23.1)\n",
            "Requirement already satisfied: numba in /usr/local/lib/python3.10/dist-packages (from shap) (0.56.4)\n",
            "Requirement already satisfied: cloudpickle in /usr/local/lib/python3.10/dist-packages (from shap) (2.2.1)\n",
            "Requirement already satisfied: pandas in /usr/local/lib/python3.10/dist-packages (from shap) (1.5.3)\n",
            "Collecting slicer==0.0.7\n",
            "  Downloading slicer-0.0.7-py3-none-any.whl (14 kB)\n",
            "Requirement already satisfied: scipy in /usr/local/lib/python3.10/dist-packages (from shap) (1.10.1)\n",
            "Requirement already satisfied: tqdm>4.25.0 in /usr/local/lib/python3.10/dist-packages (from shap) (4.65.0)\n",
            "Requirement already satisfied: numpy in /usr/local/lib/python3.10/dist-packages (from shap) (1.24.3)\n",
            "Collecting numpy\n",
            "  Downloading numpy-1.23.5-cp310-cp310-manylinux_2_17_x86_64.manylinux2014_x86_64.whl (17.1 MB)\n",
            "\u001b[2K     \u001b[90m━━━━━━━━━━━━━━━━━━━━━━━━━━━━━━━━━━━━━━━━\u001b[0m \u001b[32m17.1/17.1 MB\u001b[0m \u001b[31m24.6 MB/s\u001b[0m eta \u001b[36m0:00:00\u001b[0m\n",
            "\u001b[?25hRequirement already satisfied: llvmlite<0.40,>=0.39.0dev0 in /usr/local/lib/python3.10/dist-packages (from numba->shap) (0.39.1)\n",
            "Requirement already satisfied: setuptools in /usr/local/lib/python3.10/dist-packages (from numba->shap) (67.7.2)\n",
            "Requirement already satisfied: pytz>=2020.1 in /usr/local/lib/python3.10/dist-packages (from pandas->shap) (2022.7.1)\n",
            "Requirement already satisfied: python-dateutil>=2.8.1 in /usr/local/lib/python3.10/dist-packages (from pandas->shap) (2.8.2)\n",
            "Requirement already satisfied: joblib>=1.1.1 in /usr/local/lib/python3.10/dist-packages (from scikit-learn->shap) (1.2.0)\n",
            "Requirement already satisfied: threadpoolctl>=2.0.0 in /usr/local/lib/python3.10/dist-packages (from scikit-learn->shap) (3.1.0)\n",
            "Requirement already satisfied: six>=1.5 in /usr/local/lib/python3.10/dist-packages (from python-dateutil>=2.8.1->pandas->shap) (1.16.0)\n",
            "Installing collected packages: slicer, numpy, shap\n",
            "  Attempting uninstall: numpy\n",
            "    Found existing installation: numpy 1.24.3\n",
            "    Uninstalling numpy-1.24.3:\n",
            "      Successfully uninstalled numpy-1.24.3\n",
            "\u001b[31mERROR: pip's dependency resolver does not currently take into account all the packages that are installed. This behaviour is the source of the following dependency conflicts.\n",
            "orbax-checkpoint 0.2.1 requires jax>=0.4.8, but you have jax 0.3.25 which is incompatible.\n",
            "flax 0.6.9 requires jax>=0.4.2, but you have jax 0.3.25 which is incompatible.\n",
            "chex 0.1.7 requires jax>=0.4.6, but you have jax 0.3.25 which is incompatible.\u001b[0m\u001b[31m\n",
            "\u001b[0mSuccessfully installed numpy-1.23.5 shap-0.41.0 slicer-0.0.7\n"
          ]
        }
      ]
    },
    {
      "cell_type": "code",
      "source": [
        "!pip uninstall shap"
      ],
      "metadata": {
        "colab": {
          "base_uri": "https://localhost:8080/"
        },
        "id": "8uS1RsFUhZ_H",
        "outputId": "41afce7f-3e98-4965-e4f4-7890bd2d4c49"
      },
      "id": "8uS1RsFUhZ_H",
      "execution_count": null,
      "outputs": [
        {
          "output_type": "stream",
          "name": "stdout",
          "text": [
            "Found existing installation: shap 0.41.0\n",
            "Uninstalling shap-0.41.0:\n",
            "  Would remove:\n",
            "    /usr/local/lib/python3.10/dist-packages/shap-0.41.0.dist-info/*\n",
            "    /usr/local/lib/python3.10/dist-packages/shap/*\n",
            "Proceed (Y/n)? Y\n",
            "  Successfully uninstalled shap-0.41.0\n"
          ]
        }
      ]
    },
    {
      "cell_type": "code",
      "source": [
        "!pip install shap"
      ],
      "metadata": {
        "colab": {
          "base_uri": "https://localhost:8080/"
        },
        "id": "A1FOfIpMhe3y",
        "outputId": "ece914f6-c837-45ad-80df-3bd5a1850fbe"
      },
      "id": "A1FOfIpMhe3y",
      "execution_count": null,
      "outputs": [
        {
          "output_type": "stream",
          "name": "stdout",
          "text": [
            "Looking in indexes: https://pypi.org/simple, https://us-python.pkg.dev/colab-wheels/public/simple/\n",
            "Collecting shap\n",
            "  Using cached shap-0.41.0-cp310-cp310-manylinux_2_12_x86_64.manylinux2010_x86_64.whl (572 kB)\n",
            "Requirement already satisfied: tqdm>4.25.0 in /usr/local/lib/python3.10/dist-packages (from shap) (4.65.0)\n",
            "Requirement already satisfied: numpy in /usr/local/lib/python3.10/dist-packages (from shap) (1.23.5)\n",
            "Requirement already satisfied: slicer==0.0.7 in /usr/local/lib/python3.10/dist-packages (from shap) (0.0.7)\n",
            "Requirement already satisfied: scikit-learn in /usr/local/lib/python3.10/dist-packages (from shap) (1.2.2)\n",
            "Requirement already satisfied: packaging>20.9 in /usr/local/lib/python3.10/dist-packages (from shap) (23.1)\n",
            "Requirement already satisfied: cloudpickle in /usr/local/lib/python3.10/dist-packages (from shap) (2.2.1)\n",
            "Requirement already satisfied: numba in /usr/local/lib/python3.10/dist-packages (from shap) (0.56.4)\n",
            "Requirement already satisfied: pandas in /usr/local/lib/python3.10/dist-packages (from shap) (1.5.3)\n",
            "Requirement already satisfied: scipy in /usr/local/lib/python3.10/dist-packages (from shap) (1.10.1)\n",
            "Requirement already satisfied: setuptools in /usr/local/lib/python3.10/dist-packages (from numba->shap) (67.7.2)\n",
            "Requirement already satisfied: llvmlite<0.40,>=0.39.0dev0 in /usr/local/lib/python3.10/dist-packages (from numba->shap) (0.39.1)\n",
            "Requirement already satisfied: pytz>=2020.1 in /usr/local/lib/python3.10/dist-packages (from pandas->shap) (2022.7.1)\n",
            "Requirement already satisfied: python-dateutil>=2.8.1 in /usr/local/lib/python3.10/dist-packages (from pandas->shap) (2.8.2)\n",
            "Requirement already satisfied: joblib>=1.1.1 in /usr/local/lib/python3.10/dist-packages (from scikit-learn->shap) (1.2.0)\n",
            "Requirement already satisfied: threadpoolctl>=2.0.0 in /usr/local/lib/python3.10/dist-packages (from scikit-learn->shap) (3.1.0)\n",
            "Requirement already satisfied: six>=1.5 in /usr/local/lib/python3.10/dist-packages (from python-dateutil>=2.8.1->pandas->shap) (1.16.0)\n",
            "Installing collected packages: shap\n",
            "Successfully installed shap-0.41.0\n"
          ]
        }
      ]
    },
    {
      "cell_type": "code",
      "source": [
        "import pandas as pd\n",
        "import numpy as np\n",
        "import xgboost as xgb\n",
        "import shap\n",
        "from sklearn.model_selection import train_test_split\n",
        "\n",
        "# Load the data into a pandas DataFrame\n",
        "df = pd.read_csv('flux_data_07_21_22_params.csv')\n",
        "\n",
        "# Select relevant features for the research question\n",
        "relevant_features = ['capex', 'linecost', 'labor', 'harvcost', 'transportcost',\n",
        "                     'transportems', 'maintenanceboatems', 'insur', 'license', 'opex',\n",
        "                     'depth_mult', 'wave_mult', 'seaweed_map', 'sequestration_rate','removal_rate']\n",
        "#Run #', 'capex', 'linecost', 'labor', 'harvcost', 'transportcost', 'transportems', 'maintenanceboatems', 'insur', 'license', 'opex', 'sinkval', 'sequestration_rate', 'removal_rate', 'depth_mult', 'wave_mult', 'seaweed_map'\n",
        "# Filter out rows with non-positive labels\n",
        "df = df[df['sinkval'] > 0]\n",
        "\n",
        "# Separate the features and labels\n",
        "X = df[relevant_features]\n",
        "y = df['sinkval']\n",
        "\n",
        "# Split the data into training and testing sets\n",
        "test_size = 0.25\n",
        "train_features, test_features, train_labels, test_labels = train_test_split(X, y, test_size=test_size, random_state=42)\n",
        "\n",
        "# Remove rows with non-positive labels\n",
        "train_mask = train_labels > 0\n",
        "train_features = train_features[train_mask]\n",
        "train_labels = train_labels[train_mask]\n",
        "test_mask = test_labels > 0\n",
        "test_features = test_features[test_mask]\n",
        "test_labels = test_labels[test_mask]\n",
        "\n",
        "print('Training Features Shape:', train_features.shape)\n",
        "print('Training Labels Shape:', train_labels.shape)\n",
        "print('Testing Features Shape:', test_features.shape)\n",
        "print('Testing Labels Shape:', test_labels.shape)\n",
        "\n",
        "# Initialize XGBoost model with default hyperparameters\n",
        "xgb_model = xgb.XGBRegressor(objective='reg:squarederror', random_state=42)\n",
        "\n",
        "# Train the XGBoost model on the training data\n",
        "xgb_model.fit(train_features, train_labels)\n",
        "\n",
        "# Explain the XGBoost model with SHAP values\n",
        "explainer = shap.Explainer(xgb_model)\n",
        "shap_values = explainer(test_features)\n",
        "\n",
        "# Print the SHAP values for the first observation in the test set\n",
        "print(shap_values[0])\n",
        "\n",
        "# Plot the SHAP values for the first observation in the test set\n",
        "shap.plots.waterfall(shap_values[0])\n"
      ],
      "metadata": {
        "colab": {
          "base_uri": "https://localhost:8080/",
          "height": 1000
        },
        "id": "qPFuURqYgr6i",
        "outputId": "61639ac7-341e-469c-ca7f-313ca4aca722"
      },
      "id": "qPFuURqYgr6i",
      "execution_count": null,
      "outputs": [
        {
          "output_type": "error",
          "ename": "SystemError",
          "evalue": "ignored",
          "traceback": [
            "\u001b[0;31m---------------------------------------------------------------------------\u001b[0m",
            "\u001b[0;31mSystemError\u001b[0m                               Traceback (most recent call last)",
            "\u001b[0;32m<ipython-input-17-c598b330e31e>\u001b[0m in \u001b[0;36m<cell line: 4>\u001b[0;34m()\u001b[0m\n\u001b[1;32m      2\u001b[0m \u001b[0;32mimport\u001b[0m \u001b[0mnumpy\u001b[0m \u001b[0;32mas\u001b[0m \u001b[0mnp\u001b[0m\u001b[0;34m\u001b[0m\u001b[0;34m\u001b[0m\u001b[0m\n\u001b[1;32m      3\u001b[0m \u001b[0;32mimport\u001b[0m \u001b[0mxgboost\u001b[0m \u001b[0;32mas\u001b[0m \u001b[0mxgb\u001b[0m\u001b[0;34m\u001b[0m\u001b[0;34m\u001b[0m\u001b[0m\n\u001b[0;32m----> 4\u001b[0;31m \u001b[0;32mimport\u001b[0m \u001b[0mshap\u001b[0m\u001b[0;34m\u001b[0m\u001b[0;34m\u001b[0m\u001b[0m\n\u001b[0m\u001b[1;32m      5\u001b[0m \u001b[0;32mfrom\u001b[0m \u001b[0msklearn\u001b[0m\u001b[0;34m.\u001b[0m\u001b[0mmodel_selection\u001b[0m \u001b[0;32mimport\u001b[0m \u001b[0mtrain_test_split\u001b[0m\u001b[0;34m\u001b[0m\u001b[0;34m\u001b[0m\u001b[0m\n\u001b[1;32m      6\u001b[0m \u001b[0;34m\u001b[0m\u001b[0m\n",
            "\u001b[0;32m/usr/local/lib/python3.10/dist-packages/shap/__init__.py\u001b[0m in \u001b[0;36m<module>\u001b[0;34m\u001b[0m\n\u001b[1;32m     10\u001b[0m     \u001b[0mwarnings\u001b[0m\u001b[0;34m.\u001b[0m\u001b[0mwarn\u001b[0m\u001b[0;34m(\u001b[0m\u001b[0;34m\"As of version 0.29.0 shap only supports Python 3 (not 2)!\"\u001b[0m\u001b[0;34m)\u001b[0m\u001b[0;34m\u001b[0m\u001b[0;34m\u001b[0m\u001b[0m\n\u001b[1;32m     11\u001b[0m \u001b[0;34m\u001b[0m\u001b[0m\n\u001b[0;32m---> 12\u001b[0;31m \u001b[0;32mfrom\u001b[0m \u001b[0;34m.\u001b[0m\u001b[0m_explanation\u001b[0m \u001b[0;32mimport\u001b[0m \u001b[0mExplanation\u001b[0m\u001b[0;34m,\u001b[0m \u001b[0mCohorts\u001b[0m\u001b[0;34m\u001b[0m\u001b[0;34m\u001b[0m\u001b[0m\n\u001b[0m\u001b[1;32m     13\u001b[0m \u001b[0;34m\u001b[0m\u001b[0m\n\u001b[1;32m     14\u001b[0m \u001b[0;31m# explainers\u001b[0m\u001b[0;34m\u001b[0m\u001b[0;34m\u001b[0m\u001b[0m\n",
            "\u001b[0;32m/usr/local/lib/python3.10/dist-packages/shap/_explanation.py\u001b[0m in \u001b[0;36m<module>\u001b[0;34m\u001b[0m\n\u001b[1;32m     10\u001b[0m \u001b[0;32mfrom\u001b[0m \u001b[0mslicer\u001b[0m \u001b[0;32mimport\u001b[0m \u001b[0mSlicer\u001b[0m\u001b[0;34m,\u001b[0m \u001b[0mAlias\u001b[0m\u001b[0;34m,\u001b[0m \u001b[0mObj\u001b[0m\u001b[0;34m\u001b[0m\u001b[0;34m\u001b[0m\u001b[0m\n\u001b[1;32m     11\u001b[0m \u001b[0;31m# from ._order import Order\u001b[0m\u001b[0;34m\u001b[0m\u001b[0;34m\u001b[0m\u001b[0m\n\u001b[0;32m---> 12\u001b[0;31m \u001b[0;32mfrom\u001b[0m \u001b[0;34m.\u001b[0m\u001b[0mutils\u001b[0m\u001b[0;34m.\u001b[0m\u001b[0m_general\u001b[0m \u001b[0;32mimport\u001b[0m \u001b[0mOpChain\u001b[0m\u001b[0;34m\u001b[0m\u001b[0;34m\u001b[0m\u001b[0m\n\u001b[0m\u001b[1;32m     13\u001b[0m \u001b[0;32mfrom\u001b[0m \u001b[0;34m.\u001b[0m\u001b[0mutils\u001b[0m\u001b[0;34m.\u001b[0m\u001b[0m_exceptions\u001b[0m \u001b[0;32mimport\u001b[0m \u001b[0mDimensionError\u001b[0m\u001b[0;34m\u001b[0m\u001b[0;34m\u001b[0m\u001b[0m\n\u001b[1;32m     14\u001b[0m \u001b[0;34m\u001b[0m\u001b[0m\n",
            "\u001b[0;32m/usr/local/lib/python3.10/dist-packages/shap/utils/__init__.py\u001b[0m in \u001b[0;36m<module>\u001b[0;34m\u001b[0m\n\u001b[0;32m----> 1\u001b[0;31m \u001b[0;32mfrom\u001b[0m \u001b[0;34m.\u001b[0m\u001b[0m_clustering\u001b[0m \u001b[0;32mimport\u001b[0m \u001b[0mhclust_ordering\u001b[0m\u001b[0;34m,\u001b[0m \u001b[0mpartition_tree\u001b[0m\u001b[0;34m,\u001b[0m \u001b[0mpartition_tree_shuffle\u001b[0m\u001b[0;34m,\u001b[0m \u001b[0mdelta_minimization_order\u001b[0m\u001b[0;34m,\u001b[0m \u001b[0mhclust\u001b[0m\u001b[0;34m\u001b[0m\u001b[0;34m\u001b[0m\u001b[0m\n\u001b[0m\u001b[1;32m      2\u001b[0m \u001b[0;32mfrom\u001b[0m \u001b[0;34m.\u001b[0m\u001b[0m_general\u001b[0m \u001b[0;32mimport\u001b[0m \u001b[0mapproximate_interactions\u001b[0m\u001b[0;34m,\u001b[0m \u001b[0mpotential_interactions\u001b[0m\u001b[0;34m,\u001b[0m \u001b[0msample\u001b[0m\u001b[0;34m,\u001b[0m \u001b[0msafe_isinstance\u001b[0m\u001b[0;34m,\u001b[0m \u001b[0massert_import\u001b[0m\u001b[0;34m,\u001b[0m \u001b[0mrecord_import_error\u001b[0m\u001b[0;34m\u001b[0m\u001b[0;34m\u001b[0m\u001b[0m\n\u001b[1;32m      3\u001b[0m \u001b[0;32mfrom\u001b[0m \u001b[0;34m.\u001b[0m\u001b[0m_general\u001b[0m \u001b[0;32mimport\u001b[0m \u001b[0mshapley_coefficients\u001b[0m\u001b[0;34m,\u001b[0m \u001b[0mconvert_name\u001b[0m\u001b[0;34m,\u001b[0m \u001b[0mformat_value\u001b[0m\u001b[0;34m,\u001b[0m \u001b[0mordinal_str\u001b[0m\u001b[0;34m,\u001b[0m \u001b[0mOpChain\u001b[0m\u001b[0;34m,\u001b[0m \u001b[0msuppress_stderr\u001b[0m\u001b[0;34m\u001b[0m\u001b[0;34m\u001b[0m\u001b[0m\n\u001b[1;32m      4\u001b[0m \u001b[0;32mfrom\u001b[0m \u001b[0;34m.\u001b[0m\u001b[0m_show_progress\u001b[0m \u001b[0;32mimport\u001b[0m \u001b[0mshow_progress\u001b[0m\u001b[0;34m\u001b[0m\u001b[0;34m\u001b[0m\u001b[0m\n\u001b[1;32m      5\u001b[0m \u001b[0;32mfrom\u001b[0m \u001b[0;34m.\u001b[0m\u001b[0m_masked_model\u001b[0m \u001b[0;32mimport\u001b[0m \u001b[0mMaskedModel\u001b[0m\u001b[0;34m,\u001b[0m \u001b[0mmake_masks\u001b[0m\u001b[0;34m\u001b[0m\u001b[0;34m\u001b[0m\u001b[0m\n",
            "\u001b[0;32m/usr/local/lib/python3.10/dist-packages/shap/utils/_clustering.py\u001b[0m in \u001b[0;36m<module>\u001b[0;34m\u001b[0m\n\u001b[1;32m      2\u001b[0m \u001b[0;32mimport\u001b[0m \u001b[0mscipy\u001b[0m \u001b[0;32mas\u001b[0m \u001b[0msp\u001b[0m\u001b[0;34m\u001b[0m\u001b[0;34m\u001b[0m\u001b[0m\n\u001b[1;32m      3\u001b[0m \u001b[0;32mfrom\u001b[0m \u001b[0mscipy\u001b[0m\u001b[0;34m.\u001b[0m\u001b[0mspatial\u001b[0m\u001b[0;34m.\u001b[0m\u001b[0mdistance\u001b[0m \u001b[0;32mimport\u001b[0m \u001b[0mpdist\u001b[0m\u001b[0;34m\u001b[0m\u001b[0;34m\u001b[0m\u001b[0m\n\u001b[0;32m----> 4\u001b[0;31m \u001b[0;32mfrom\u001b[0m \u001b[0mnumba\u001b[0m \u001b[0;32mimport\u001b[0m \u001b[0mjit\u001b[0m\u001b[0;34m\u001b[0m\u001b[0;34m\u001b[0m\u001b[0m\n\u001b[0m\u001b[1;32m      5\u001b[0m \u001b[0;32mimport\u001b[0m \u001b[0msklearn\u001b[0m\u001b[0;34m\u001b[0m\u001b[0;34m\u001b[0m\u001b[0m\n\u001b[1;32m      6\u001b[0m \u001b[0;32mimport\u001b[0m \u001b[0mwarnings\u001b[0m\u001b[0;34m\u001b[0m\u001b[0;34m\u001b[0m\u001b[0m\n",
            "\u001b[0;32m/usr/local/lib/python3.10/dist-packages/numba/__init__.py\u001b[0m in \u001b[0;36m<module>\u001b[0;34m\u001b[0m\n\u001b[1;32m     40\u001b[0m \u001b[0;34m\u001b[0m\u001b[0m\n\u001b[1;32m     41\u001b[0m \u001b[0;31m# Re-export vectorize decorators and the thread layer querying function\u001b[0m\u001b[0;34m\u001b[0m\u001b[0;34m\u001b[0m\u001b[0m\n\u001b[0;32m---> 42\u001b[0;31m from numba.np.ufunc import (vectorize, guvectorize, threading_layer,\n\u001b[0m\u001b[1;32m     43\u001b[0m                             \u001b[0mget_num_threads\u001b[0m\u001b[0;34m,\u001b[0m \u001b[0mset_num_threads\u001b[0m\u001b[0;34m,\u001b[0m\u001b[0;34m\u001b[0m\u001b[0;34m\u001b[0m\u001b[0m\n\u001b[1;32m     44\u001b[0m                             \u001b[0mset_parallel_chunksize\u001b[0m\u001b[0;34m,\u001b[0m \u001b[0mget_parallel_chunksize\u001b[0m\u001b[0;34m,\u001b[0m\u001b[0;34m\u001b[0m\u001b[0;34m\u001b[0m\u001b[0m\n",
            "\u001b[0;32m/usr/local/lib/python3.10/dist-packages/numba/np/ufunc/__init__.py\u001b[0m in \u001b[0;36m<module>\u001b[0;34m\u001b[0m\n\u001b[1;32m      1\u001b[0m \u001b[0;31m# -*- coding: utf-8 -*-\u001b[0m\u001b[0;34m\u001b[0m\u001b[0;34m\u001b[0m\u001b[0m\n\u001b[1;32m      2\u001b[0m \u001b[0;34m\u001b[0m\u001b[0m\n\u001b[0;32m----> 3\u001b[0;31m \u001b[0;32mfrom\u001b[0m \u001b[0mnumba\u001b[0m\u001b[0;34m.\u001b[0m\u001b[0mnp\u001b[0m\u001b[0;34m.\u001b[0m\u001b[0mufunc\u001b[0m\u001b[0;34m.\u001b[0m\u001b[0mdecorators\u001b[0m \u001b[0;32mimport\u001b[0m \u001b[0mVectorize\u001b[0m\u001b[0;34m,\u001b[0m \u001b[0mGUVectorize\u001b[0m\u001b[0;34m,\u001b[0m \u001b[0mvectorize\u001b[0m\u001b[0;34m,\u001b[0m \u001b[0mguvectorize\u001b[0m\u001b[0;34m\u001b[0m\u001b[0;34m\u001b[0m\u001b[0m\n\u001b[0m\u001b[1;32m      4\u001b[0m \u001b[0;32mfrom\u001b[0m \u001b[0mnumba\u001b[0m\u001b[0;34m.\u001b[0m\u001b[0mnp\u001b[0m\u001b[0;34m.\u001b[0m\u001b[0mufunc\u001b[0m\u001b[0;34m.\u001b[0m\u001b[0m_internal\u001b[0m \u001b[0;32mimport\u001b[0m \u001b[0mPyUFunc_None\u001b[0m\u001b[0;34m,\u001b[0m \u001b[0mPyUFunc_Zero\u001b[0m\u001b[0;34m,\u001b[0m \u001b[0mPyUFunc_One\u001b[0m\u001b[0;34m\u001b[0m\u001b[0;34m\u001b[0m\u001b[0m\n\u001b[1;32m      5\u001b[0m \u001b[0;32mfrom\u001b[0m \u001b[0mnumba\u001b[0m\u001b[0;34m.\u001b[0m\u001b[0mnp\u001b[0m\u001b[0;34m.\u001b[0m\u001b[0mufunc\u001b[0m \u001b[0;32mimport\u001b[0m \u001b[0m_internal\u001b[0m\u001b[0;34m,\u001b[0m \u001b[0marray_exprs\u001b[0m\u001b[0;34m\u001b[0m\u001b[0;34m\u001b[0m\u001b[0m\n",
            "\u001b[0;32m/usr/local/lib/python3.10/dist-packages/numba/np/ufunc/decorators.py\u001b[0m in \u001b[0;36m<module>\u001b[0;34m\u001b[0m\n\u001b[1;32m      1\u001b[0m \u001b[0;32mimport\u001b[0m \u001b[0minspect\u001b[0m\u001b[0;34m\u001b[0m\u001b[0;34m\u001b[0m\u001b[0m\n\u001b[1;32m      2\u001b[0m \u001b[0;34m\u001b[0m\u001b[0m\n\u001b[0;32m----> 3\u001b[0;31m \u001b[0;32mfrom\u001b[0m \u001b[0mnumba\u001b[0m\u001b[0;34m.\u001b[0m\u001b[0mnp\u001b[0m\u001b[0;34m.\u001b[0m\u001b[0mufunc\u001b[0m \u001b[0;32mimport\u001b[0m \u001b[0m_internal\u001b[0m\u001b[0;34m\u001b[0m\u001b[0;34m\u001b[0m\u001b[0m\n\u001b[0m\u001b[1;32m      4\u001b[0m \u001b[0;32mfrom\u001b[0m \u001b[0mnumba\u001b[0m\u001b[0;34m.\u001b[0m\u001b[0mnp\u001b[0m\u001b[0;34m.\u001b[0m\u001b[0mufunc\u001b[0m\u001b[0;34m.\u001b[0m\u001b[0mparallel\u001b[0m \u001b[0;32mimport\u001b[0m \u001b[0mParallelUFuncBuilder\u001b[0m\u001b[0;34m,\u001b[0m \u001b[0mParallelGUFuncBuilder\u001b[0m\u001b[0;34m\u001b[0m\u001b[0;34m\u001b[0m\u001b[0m\n\u001b[1;32m      5\u001b[0m \u001b[0;34m\u001b[0m\u001b[0m\n",
            "\u001b[0;31mSystemError\u001b[0m: initialization of _internal failed without raising an exception"
          ]
        }
      ]
    },
    {
      "cell_type": "code",
      "execution_count": null,
      "id": "81adf096-1ed2-449c-ab79-48b6c51fbb02",
      "metadata": {
        "id": "81adf096-1ed2-449c-ab79-48b6c51fbb02",
        "outputId": "26172e67-49e8-4a59-a8d5-b03bbe16d146",
        "colab": {
          "base_uri": "https://localhost:8080/"
        }
      },
      "outputs": [
        {
          "output_type": "stream",
          "name": "stdout",
          "text": [
            "[ 797.47538622  869.94473412  512.58811883 ... 1402.5960508  1285.73768465\n",
            " 3527.34442199]\n",
            "Training Features Shape: (3750, 18)\n",
            "Training Labels Shape: (3750,)\n",
            "Testing Features Shape: (1250, 18)\n",
            "Testing Labels Shape: (1250,)\n",
            "[]\n"
          ]
        }
      ],
      "source": [
        "# Using Skicit-learn to split data into training and testing sets\n",
        "from sklearn.model_selection import train_test_split\n",
        "from sklearn import metrics\n",
        "from sklearn.metrics import accuracy_score\n",
        "\n",
        "# Split the data into training and testing sets\n",
        "train_features, test_features, train_labels, test_labels = train_test_split(features, labels, test_size = 0.25, random_state = 42)\n",
        "print(train_labels)\n",
        "train_features = train_features[train_labels > 0]\n",
        "train_labels = train_labels[train_labels > 0]\n",
        "print('Training Features Shape:', train_features.shape)\n",
        "print('Training Labels Shape:', train_labels.shape)\n",
        "test_features = test_features[test_labels > 0]\n",
        "test_labels = test_labels[test_labels > 0]\n",
        "print('Testing Features Shape:', test_features.shape)\n",
        "print('Testing Labels Shape:', test_labels.shape)\n",
        "print(test_labels[test_labels < 0])"
      ]
    },
    {
      "cell_type": "code",
      "source": [
        "from sklearn.ensemble import GradientBoostingRegressor\n",
        "from sklearn.model_selection import cross_val_score\n",
        "\n",
        "# Initiate Gradient-Boosting Regression model\n",
        "gb = GradientBoostingRegressor(n_estimators=100, learning_rate=0.1, random_state=42)\n",
        "\n",
        "# Perform 10-fold cross-validation\n",
        "scores = cross_val_score(gb, train_features, train_labels, cv=10, scoring='neg_mean_absolute_error')\n",
        "\n",
        "# Fit the Gradient-Boosting Regression model on training data\n",
        "gb.fit(train_features, train_labels)\n",
        "\n",
        "# Use the Gradient-Boosting Regression model's predict method on the test data\n",
        "predictions_gb = gb.predict(test_features)\n",
        "\n",
        "# Calculate the absolute errors\n",
        "errors_gb = abs(predictions_gb - test_labels)\n",
        "\n",
        "# Print out the mean absolute error (MAE)\n",
        "print('Gradient-Boosting Regression Mean Absolute Error:', round(np.mean(errors_gb), 2), '$/ton')\n",
        "\n",
        "# Calculate mean absolute percentage error (MAPE)\n",
        "mape_gb = 100 * (errors_gb / test_labels)\n",
        "\n",
        "# Calculate and display accuracy\n",
        "accuracy_gb = 100 - np.mean(mape_gb)\n",
        "print('Gradient-Boosting Regression Accuracy:', round(accuracy_gb, 2), '%.')\n",
        "\n",
        "# Get feature importances\n",
        "importances_gb = gb.feature_importances_\n",
        "\n",
        "# List of tuples with variable and importance\n",
        "feature_importances_gb = [(feature, round(importance, 2)) for feature, importance in zip(feature_list, importances_gb)]\n",
        "\n",
        "# Sort the feature importances by most important first\n",
        "feature_importances_gb = sorted(feature_importances_gb, key = lambda x: x[1], reverse = True)\n",
        "\n",
        "# Print out the feature and importances\n",
        "[print('Variable: {:20} Gradient-Boosting Regression Importance: {}'.format(*pair)) for pair in feature_importances_gb];\n",
        "\n",
        "# Plot the feature importances\n",
        "import matplotlib.pyplot as plt\n",
        "plt.bar(range(len(importances_gb)), importances_gb)\n",
        "plt.xticks(range(len(importances_gb)), feature_list, rotation=90)\n",
        "plt.title('Gradient-Boosting Regression Feature Importances')\n",
        "plt.show()\n",
        "\n",
        "# printing the training and testing accuracy\n",
        "print('Gradient-Boosting Regression Training Accuracy {:.4f}'.format(gb.score(train_features,train_labels)))\n",
        "print('Gradient-Boosting Regression Testing Accuracy {:.4f}'.format(gb.score(test_features,test_labels)))\n"
      ],
      "metadata": {
        "id": "1WCyBIkDy7wW"
      },
      "id": "1WCyBIkDy7wW",
      "execution_count": null,
      "outputs": []
    },
    {
      "cell_type": "code",
      "execution_count": null,
      "id": "947bfdff-fafa-4099-841d-74eef45314a4",
      "metadata": {
        "id": "947bfdff-fafa-4099-841d-74eef45314a4",
        "outputId": "34ee3b8e-939a-4be3-f5cb-2722ed326b7f",
        "colab": {
          "base_uri": "https://localhost:8080/"
        }
      },
      "outputs": [
        {
          "output_type": "stream",
          "name": "stdout",
          "text": [
            "random forest: 0.99 accuracy with a standard deviation of 0.0034\n"
          ]
        }
      ],
      "source": [
        "# Import the model we are using\n",
        "from sklearn.ensemble import RandomForestRegressor\n",
        "from sklearn.model_selection import cross_val_score\n",
        "\n",
        "# Initiate RF model with 100 decision trees\n",
        "rf = RandomForestRegressor(n_estimators = 200, random_state = 42)\n",
        "scores = cross_val_score(rf, train_features, train_labels, cv = 10)\n",
        "print(\"random forest: %0.2f accuracy with a standard deviation of %0.4f\" % (scores.mean(), scores.std()))\n",
        "# Train the model on training data\n",
        "rf.fit(train_features, train_labels);"
      ]
    },
    {
      "cell_type": "code",
      "source": [
        "from mlxtend.plotting import plot_learning_curves\n",
        "\n",
        "# Initiate RF model with 200 decision trees\n",
        "rf = RandomForestRegressor(n_estimators = 200, random_state = 42)\n",
        "\n",
        "# plotting the learning curve\n",
        "plot_learning_curves(X_train=train_features,\n",
        "                     y_train=train_labels,\n",
        "                     X_test=test_features,\n",
        "                     y_test=test_labels,\n",
        "                     clf=rf,\n",
        "                     scoring='mean_absolute_error',\n",
        "                     print_model=False)\n",
        "plt.show()\n"
      ],
      "metadata": {
        "colab": {
          "base_uri": "https://localhost:8080/",
          "height": 478
        },
        "id": "xPwTPTNCHfc6",
        "outputId": "91144f73-e2b8-4a59-c9aa-f9c3d2456cfc"
      },
      "id": "xPwTPTNCHfc6",
      "execution_count": null,
      "outputs": [
        {
          "output_type": "display_data",
          "data": {
            "text/plain": [
              "<Figure size 640x480 with 1 Axes>"
            ],
            "image/png": "[encoded data removed]"
          },
          "metadata": {}
        }
      ]
    },
    {
      "cell_type": "code",
      "source": [
        "from sklearn.svm import SVR\n",
        "from sklearn.model_selection import cross_val_score\n",
        "from mlxtend.plotting import plot_learning_curves\n",
        "\n",
        "# Initiate SVR model with a linear kernel\n",
        "svr = SVR(kernel='linear')\n",
        "\n",
        "# Perform 10-fold cross-validation\n",
        "scores = cross_val_score(svr, train_features, train_labels, cv=10, scoring='neg_mean_absolute_error')\n",
        "print(\"SVR 10-fold CV Mean Absolute Error:\", round(-np.mean(scores), 2), \"$/ton\")\n",
        "\n",
        "# plotting the learning curve\n",
        "plot_learning_curves(X_train=train_features,\n",
        "                     y_train=train_labels,\n",
        "                     X_test=test_features,\n",
        "                     y_test=test_labels,\n",
        "                     clf=svr,\n",
        "                     scoring='neg_mean_absolute_error',\n",
        "                     print_model=False,\n",
        "                     cv=10)\n",
        "plt.show()\n",
        "\n",
        "# Print training and testing accuracy\n",
        "print('Support Vector Regressor Training accuracy {:.4f}'.format(svr.score(train_features,train_labels)))\n",
        "print('Support Vector Regressor Testing accuracy {:.4f}'.format(svr.score(test_features,test_labels)))\n",
        "\n",
        "\n"
      ],
      "metadata": {
        "id": "GrVF7lsubpmF"
      },
      "id": "GrVF7lsubpmF",
      "execution_count": null,
      "outputs": []
    },
    {
      "cell_type": "code",
      "source": [
        "# Import the model we are using\n",
        "from sklearn.ensemble import RandomForestRegressor\n",
        "from sklearn.model_selection import cross_val_score\n",
        "\n",
        "# Initiate RF model with 100 decision trees\n",
        "rf = RandomForestRegressor(n_estimators = 200, random_state = 42)\n",
        "scores = cross_val_score(rf, train_features, train_labels, cv = 10)\n",
        "print(\"Random Forest Regressor: %0.2f accuracy with a standard deviation of %0.4f\" % (scores.mean(), scores.std()))\n",
        "\n",
        "# Train the model on training data\n",
        "rf.fit(train_features, train_labels)\n",
        "\n",
        "# Print training and testing accuracy\n",
        "print('Random Forest Regressor Training accuracy {:.4f}'.format(rf.score(train_features,train_labels)))\n",
        "print('Random Forest Regressor Testing accuracy {:.4f}'.format(rf.score(test_features,test_labels)))\n"
      ],
      "metadata": {
        "colab": {
          "base_uri": "https://localhost:8080/"
        },
        "id": "KZGGqB92KIGM",
        "outputId": "ddda00ab-278c-43d3-f34f-41579503f685"
      },
      "id": "KZGGqB92KIGM",
      "execution_count": null,
      "outputs": [
        {
          "output_type": "stream",
          "name": "stdout",
          "text": [
            "Random Forest Regressor: 0.99 accuracy with a standard deviation of 0.0034\n",
            "Random Forest Regressor Training accuracy 0.9987\n",
            "Random Forest Regressor Testing accuracy 0.9874\n"
          ]
        }
      ]
    },
    {
      "cell_type": "code",
      "execution_count": null,
      "id": "560e30e3-8544-4dba-9e9f-2af10b1718c2",
      "metadata": {
        "id": "560e30e3-8544-4dba-9e9f-2af10b1718c2",
        "outputId": "0beaaab1-0677-45d9-e5de-0b056c801628",
        "colab": {
          "base_uri": "https://localhost:8080/",
          "height": 565
        }
      },
      "outputs": [
        {
          "output_type": "stream",
          "name": "stdout",
          "text": [
            "[0.98553565 0.99663323 0.99593182 0.99652867 0.99688226 0.98417242\n",
            " 0.99620124 0.99155702 0.99586881 0.98790361]\n"
          ]
        },
        {
          "output_type": "display_data",
          "data": {
            "text/plain": [
              "<Figure size 640x480 with 1 Axes>"
            ],
            "image/png": "[encoded data removed]"
          },
          "metadata": {}
        },
        {
          "output_type": "stream",
          "name": "stdout",
          "text": [
            "LGBM: 0.99 accuracy with a standard deviation of 0.0048\n",
            "LGBM Training accuracy 0.9991\n",
            "LGBM Testing accuracy 0.9910\n"
          ]
        }
      ],
      "source": [
        "# Initiate LGMB model\n",
        "from sklearn.metrics import accuracy_score\n",
        "from mlxtend.plotting import plot_learning_curves\n",
        "\n",
        "clf = lgbm.LGBMClassifier(objective='binary',random_state=42)  # or 'mutliclass'\n",
        "reg = lgbm.LGBMRegressor(n_estimators = 200, learning_rate = 0.1, saved_feature_importance_type = 1, random_state = 42)  # default - 'regression'\n",
        "scores = cross_val_score(reg, train_features, train_labels, cv = 10)\n",
        "print(scores)\n",
        "\n",
        "# plotting the learning curve\n",
        "plot_learning_curves(X_train=train_features,\n",
        "                     y_train=train_labels,\n",
        "                     X_test=test_features,\n",
        "                     y_test=test_labels,\n",
        "                     clf=reg,\n",
        "                     scoring='mean_absolute_error',\n",
        "                     print_model=False)\n",
        "# plt.ylim(top=0.1, bottom=-0.025)\n",
        "plt.show()\n",
        "\n",
        "reg.fit(train_features, train_labels);\n",
        "print(\"LGBM: %0.2f accuracy with a standard deviation of %0.4f\" % (scores.mean(), scores.std()))\n",
        "print('LGBM Training accuracy {:.4f}'.format(reg.score(train_features,train_labels)))\n",
        "print('LGBM Testing accuracy {:.4f}'.format(reg.score(test_features,test_labels)))"
      ]
    },
    {
      "cell_type": "code",
      "execution_count": null,
      "id": "58d36d8d-2382-4f8b-a9bd-688d954ef969",
      "metadata": {
        "id": "58d36d8d-2382-4f8b-a9bd-688d954ef969",
        "outputId": "5cf3a898-2947-4f5f-952a-9847c91b6dc1",
        "colab": {
          "base_uri": "https://localhost:8080/"
        }
      },
      "outputs": [
        {
          "output_type": "stream",
          "name": "stdout",
          "text": [
            "[]\n",
            "[]\n",
            "[]\n",
            "[]\n",
            "[]\n",
            "[]\n",
            "RF Mean Absolute Error: 60.99 $/ton\n",
            "LGBM Mean Absolute Error: 38.43 $/ton\n"
          ]
        }
      ],
      "source": [
        "# Use the forest's predict method on the test data\n",
        "print(test_features)\n",
        "test_features = test_features[test_features != 0]\n",
        "predictions = rf.predict(test_features)\n",
        "predictions_lgbm = reg.predict(test_features)\n",
        "\n",
        "# Calculate the absolute errors\n",
        "print(test_labels[test_labels < 0])\n",
        "print(predictions[test_labels < 0])\n",
        "# test_labels = test_labels[test_labels != 0]\n",
        "errors_RF = abs(predictions - test_labels)\n",
        "print(errors_RF[test_labels < 0])\n",
        "\n",
        "# Calculate the absolute errors\n",
        "print(test_labels[test_labels < 0])\n",
        "print(predictions[test_labels < 0])\n",
        "# test_labels = test_labels[test_labels != 0]\n",
        "errors_LGBM = abs(predictions_lgbm - test_labels)\n",
        "print(errors_LGBM[test_labels < 0])\n",
        "\n",
        "# Print out the mean absolute error (mae)\n",
        "print('RF Mean Absolute Error:', round(np.mean(errors_RF), 2), '$/ton')\n",
        "print('LGBM Mean Absolute Error:', round(np.mean(errors_LGBM), 2), '$/ton')"
      ]
    },
    {
      "cell_type": "code",
      "execution_count": null,
      "id": "ecb664d4-787d-40c3-854e-e3c868942866",
      "metadata": {
        "id": "ecb664d4-787d-40c3-854e-e3c868942866",
        "outputId": "b58a7934-2724-4caa-ffaf-342e02eb7776",
        "colab": {
          "base_uri": "https://localhost:8080/"
        }
      },
      "outputs": [
        {
          "output_type": "stream",
          "name": "stdout",
          "text": [
            "RF Accuracy: 96.07 %.\n",
            "LGBM Accuracy: 97.64 %.\n"
          ]
        }
      ],
      "source": [
        "# Calculate mean absolute percentage error (MAPE)\n",
        "# import sys\n",
        "# np.set_printoptions(threshold=sys.maxsize)\n",
        "errors_RF = errors_RF[test_labels != 0]\n",
        "test_labels = test_labels[test_labels != 0]\n",
        "## test_labels = abs(test_labels)\n",
        "mape = 100 * (errors_RF / test_labels)\n",
        "# print(errors)\n",
        "# print(test_labels)\n",
        "# Calculate and display accuracy\n",
        "accuracy_RF = 100 - np.mean(mape)\n",
        "print('RF Accuracy:', round(accuracy_RF, 2), '%.')\n",
        "\n",
        "# Calculate mean absolute percentage error (MAPE)\n",
        "# import sys\n",
        "# np.set_printoptions(threshold=sys.maxsize)\n",
        "errors_LGBM = errors_LGBM[test_labels != 0]\n",
        "test_labels = test_labels[test_labels != 0]\n",
        "## test_labels = abs(test_labels)\n",
        "mape = 100 * (errors_LGBM / test_labels)\n",
        "# print(errors)\n",
        "# print(test_labels)\n",
        "# Calculate and display accuracy\n",
        "accuracy_LGBM = 100 - np.mean(mape)\n",
        "print('LGBM Accuracy:', round(accuracy_LGBM, 2), '%.')"
      ]
    },
    {
      "cell_type": "code",
      "execution_count": null,
      "id": "119e6222-539a-4872-b6f1-c0fe745ecf2a",
      "metadata": {
        "id": "119e6222-539a-4872-b6f1-c0fe745ecf2a",
        "outputId": "7c7b09b4-39fe-43ff-ce81-6c4c877e70d8",
        "colab": {
          "base_uri": "https://localhost:8080/"
        }
      },
      "outputs": [
        {
          "output_type": "stream",
          "name": "stdout",
          "text": [
            "Variable: seaweed_map          RF Importance: 0.58\n",
            "Variable: linecost             RF Importance: 0.36\n",
            "Variable: capex                RF Importance: 0.04\n",
            "Variable: harvcost             RF Importance: 0.01\n",
            "Variable: Run #                RF Importance: 0.0\n",
            "Variable: labor                RF Importance: 0.0\n",
            "Variable: transportcost        RF Importance: 0.0\n",
            "Variable: transportems         RF Importance: 0.0\n",
            "Variable: maintenanceboatems   RF Importance: 0.0\n",
            "Variable: insur                RF Importance: 0.0\n",
            "Variable: license              RF Importance: 0.0\n",
            "Variable: opex                 RF Importance: 0.0\n",
            "Variable: productval           RF Importance: 0.0\n",
            "Variable: avoidedems_product   RF Importance: 0.0\n",
            "Variable: convertcost          RF Importance: 0.0\n",
            "Variable: convertems           RF Importance: 0.0\n",
            "Variable: depth_mult           RF Importance: 0.0\n",
            "Variable: wave_mult            RF Importance: 0.0\n",
            "\n",
            "\n",
            "Variable: seaweed_map          LGBM Importance: 0.58\n",
            "Variable: linecost             LGBM Importance: 0.36\n",
            "Variable: capex                LGBM Importance: 0.04\n",
            "Variable: harvcost             LGBM Importance: 0.01\n",
            "Variable: Run #                LGBM Importance: 0.0\n",
            "Variable: labor                LGBM Importance: 0.0\n",
            "Variable: transportcost        LGBM Importance: 0.0\n",
            "Variable: transportems         LGBM Importance: 0.0\n",
            "Variable: maintenanceboatems   LGBM Importance: 0.0\n",
            "Variable: insur                LGBM Importance: 0.0\n",
            "Variable: license              LGBM Importance: 0.0\n",
            "Variable: opex                 LGBM Importance: 0.0\n",
            "Variable: productval           LGBM Importance: 0.0\n",
            "Variable: avoidedems_product   LGBM Importance: 0.0\n",
            "Variable: convertcost          LGBM Importance: 0.0\n",
            "Variable: convertems           LGBM Importance: 0.0\n",
            "Variable: depth_mult           LGBM Importance: 0.0\n",
            "Variable: wave_mult            LGBM Importance: 0.0\n"
          ]
        }
      ],
      "source": [
        "# Get numerical feature importances\n",
        "importances_RF = list(rf.feature_importances_)\n",
        "importances_LGBM  = list(reg.booster_.feature_importance(importance_type='gain')/ sum(reg.booster_.feature_importance(importance_type='gain')))\n",
        "# importances_LGBM  = list(reg.feature_importances_/ sum(reg.feature_importances_))\n",
        "\n",
        "# List of tuples with variable and importance\n",
        "feature_importances_RF = [(feature, round(importance, 2)) for feature, importance in zip(feature_list, importances_RF)]\n",
        "feature_importances_LGBM = [(feature, round(importance, 2)) for feature, importance in zip(feature_list, importances_LGBM)]\n",
        "\n",
        "\n",
        "# Sort the feature importances by most important first\n",
        "feature_importances_RF = sorted(feature_importances_RF, key = lambda x: x[1], reverse = True)\n",
        "feature_importances_LGBM = sorted(feature_importances_LGBM, key = lambda x: x[1], reverse = True)\n",
        "\n",
        "# Print out the feature and importances\n",
        "[print('Variable: {:20} RF Importance: {}'.format(*pair)) for pair in feature_importances_RF];\n",
        "print('\\n')\n",
        "[print('Variable: {:20} LGBM Importance: {}'.format(*pair)) for pair in feature_importances_LGBM];"
      ]
    },
    {
      "cell_type": "code",
      "execution_count": null,
      "id": "3693de08-a973-465b-8bb4-f61aa4a280d3",
      "metadata": {
        "id": "3693de08-a973-465b-8bb4-f61aa4a280d3"
      },
      "outputs": [],
      "source": []
    }
  ],
  "metadata": {
    "kernelspec": {
      "display_name": "Python 3",
      "language": "python",
      "name": "python3"
    },
    "language_info": {
      "codemirror_mode": {
        "name": "ipython",
        "version": 3
      },
      "file_extension": ".py",
      "mimetype": "text/x-python",
      "name": "python",
      "nbconvert_exporter": "python",
      "pygments_lexer": "ipython3",
      "version": "3.8.8"
    },
    "colab": {
      "provenance": [],
      "include_colab_link": true
    },
    "accelerator": "TPU",
    "gpuClass": "standard"
  },
  "nbformat": 4,
  "nbformat_minor": 5
}